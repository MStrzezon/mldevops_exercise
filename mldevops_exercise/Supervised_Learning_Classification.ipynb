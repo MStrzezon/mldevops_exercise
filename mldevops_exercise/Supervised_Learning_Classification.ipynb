{
 "cells": [
  {
   "cell_type": "markdown",
   "metadata": {
    "id": "Pk-qW3EAQUuG"
   },
   "source": [
    "# Supervised Learning - Classification"
   ]
  },
  {
   "cell_type": "code",
   "execution_count": 7,
   "metadata": {
    "ExecuteTime": {
     "end_time": "2024-11-12T11:47:46.771935Z",
     "start_time": "2024-11-12T11:47:46.753962Z"
    },
    "id": "1SIviE0kQQ8C"
   },
   "outputs": [],
   "source": [
    "import torch\n",
    "import torch.nn as nn\n",
    "import torch.optim as optim\n",
    "import torch.nn.functional as F\n",
    "from torchvision import datasets, transforms\n",
    "from torch.utils.data import random_split, DataLoader\n",
    "import matplotlib.pyplot as plt\n",
    "import wandb"
   ]
  },
  {
   "cell_type": "code",
   "execution_count": 8,
   "metadata": {
    "ExecuteTime": {
     "end_time": "2024-11-12T11:45:48.290230Z",
     "start_time": "2024-11-12T11:45:48.217383Z"
    },
    "colab": {
     "base_uri": "https://localhost:8080/"
    },
    "id": "Hy_V3SlCRd5L",
    "outputId": "a6a1b3cb-6710-4bce-a3e1-bb57d66b9bb0"
   },
   "outputs": [],
   "source": [
    "transform = transforms.Compose([transforms.ToTensor(), transforms.Normalize((0.5,), (0.5,))])\n",
    "\n",
    "train_dataset = datasets.FashionMNIST(root=\"./data\", train=True, download=True, transform=transform)\n",
    "# Define the split ratio\n",
    "train_size = int(0.8 * len(train_dataset))\n",
    "val_size = len(train_dataset) - train_size\n",
    "\n",
    "# Split the dataset into training and validation sets\n",
    "train_subset, val_subset = random_split(train_dataset, [train_size, val_size])\n",
    "test_dataset = datasets.FashionMNIST(root=\"./data\", train=False, download=True, transform=transform)\n",
    "\n",
    "train_loader = DataLoader(dataset=train_subset, batch_size=64, shuffle=True)\n",
    "val_loader = DataLoader(dataset=val_subset, batch_size=64, shuffle=False)\n",
    "test_loader = DataLoader(dataset=test_dataset, batch_size=1000, shuffle=False)"
   ]
  },
  {
   "cell_type": "code",
   "execution_count": 9,
   "metadata": {
    "ExecuteTime": {
     "end_time": "2024-11-12T11:41:04.935691Z",
     "start_time": "2024-11-12T11:41:04.929544Z"
    },
    "id": "XxFMBgdRRzEm"
   },
   "outputs": [],
   "source": [
    "class FashionMNISTModel(nn.Module):\n",
    "    def __init__(self):\n",
    "        super(FashionMNISTModel, self).__init__()\n",
    "        self.fc1 = nn.Linear(28 * 28, 256)\n",
    "        self.fc2 = nn.Linear(256, 128)\n",
    "        self.fc3 = nn.Linear(128, 10)\n",
    "\n",
    "    def forward(self, x):\n",
    "        x = x.view(-1, 28 * 28)\n",
    "        x = F.relu(self.fc1(x))\n",
    "        x = F.relu(self.fc2(x))\n",
    "        x = self.fc3(x)\n",
    "        return x\n",
    "\n",
    "\n",
    "model = FashionMNISTModel()"
   ]
  },
  {
   "cell_type": "code",
   "execution_count": 10,
   "metadata": {
    "ExecuteTime": {
     "end_time": "2024-11-12T11:41:04.981151Z",
     "start_time": "2024-11-12T11:41:04.974296Z"
    },
    "id": "pJ4JGvlDaFxI"
   },
   "outputs": [],
   "source": [
    "criterion = nn.CrossEntropyLoss()\n",
    "optimizer = optim.RMSprop(model.parameters())"
   ]
  },
  {
   "cell_type": "code",
   "execution_count": 11,
   "metadata": {},
   "outputs": [
    {
     "data": {
      "text/html": [
       "Finishing last run (ID:egegvmw7) before initializing another..."
      ],
      "text/plain": [
       "<IPython.core.display.HTML object>"
      ]
     },
     "metadata": {},
     "output_type": "display_data"
    },
    {
     "data": {
      "application/vnd.jupyter.widget-view+json": {
       "model_id": "",
       "version_major": 2,
       "version_minor": 0
      },
      "text/plain": [
       "VBox(children=(Label(value='0.004 MB of 0.004 MB uploaded\\r'), FloatProgress(value=1.0, max=1.0)))"
      ]
     },
     "metadata": {},
     "output_type": "display_data"
    },
    {
     "data": {
      "text/html": [
       "\n",
       "    <style>\n",
       "        .wandb-row {\n",
       "            display: flex;\n",
       "            flex-direction: row;\n",
       "            flex-wrap: wrap;\n",
       "            justify-content: flex-start;\n",
       "            width: 100%;\n",
       "        }\n",
       "        .wandb-col {\n",
       "            display: flex;\n",
       "            flex-direction: column;\n",
       "            flex-basis: 100%;\n",
       "            flex: 1;\n",
       "            padding: 10px;\n",
       "        }\n",
       "    </style>\n",
       "<div class=\"wandb-row\"><div class=\"wandb-col\"><h3>Run history:</h3><br/><table class=\"wandb\"><tr><td>Training Loss</td><td>█▂▁▁▁▁▁▁▁▁▁▁</td></tr><tr><td>Validation Loss</td><td>▂▃█▂▇▄▂▇▂▃▄▁</td></tr></table><br/></div><div class=\"wandb-col\"><h3>Run summary:</h3><br/><table class=\"wandb\"><tr><td>Training Loss</td><td>0.41356</td></tr><tr><td>Validation Loss</td><td>0.40748</td></tr></table><br/></div></div>"
      ],
      "text/plain": [
       "<IPython.core.display.HTML object>"
      ]
     },
     "metadata": {},
     "output_type": "display_data"
    },
    {
     "data": {
      "text/html": [
       " View run <strong style=\"color:#cdcd00\">jolly-forest-2</strong> at: <a href='https://wandb.ai/mstrzezon-agh-university-of-science-and-technology/mldevops_exercis/runs/egegvmw7' target=\"_blank\">https://wandb.ai/mstrzezon-agh-university-of-science-and-technology/mldevops_exercis/runs/egegvmw7</a><br/> View project at: <a href='https://wandb.ai/mstrzezon-agh-university-of-science-and-technology/mldevops_exercis' target=\"_blank\">https://wandb.ai/mstrzezon-agh-university-of-science-and-technology/mldevops_exercis</a><br/>Synced 4 W&B file(s), 0 media file(s), 3 artifact file(s) and 0 other file(s)"
      ],
      "text/plain": [
       "<IPython.core.display.HTML object>"
      ]
     },
     "metadata": {},
     "output_type": "display_data"
    },
    {
     "data": {
      "text/html": [
       "Find logs at: <code>./wandb/run-20241112_130559-egegvmw7/logs</code>"
      ],
      "text/plain": [
       "<IPython.core.display.HTML object>"
      ]
     },
     "metadata": {},
     "output_type": "display_data"
    },
    {
     "data": {
      "text/html": [
       "Successfully finished last run (ID:egegvmw7). Initializing new run:<br/>"
      ],
      "text/plain": [
       "<IPython.core.display.HTML object>"
      ]
     },
     "metadata": {},
     "output_type": "display_data"
    },
    {
     "data": {
      "text/html": [
       "Tracking run with wandb version 0.18.6"
      ],
      "text/plain": [
       "<IPython.core.display.HTML object>"
      ]
     },
     "metadata": {},
     "output_type": "display_data"
    },
    {
     "data": {
      "text/html": [
       "Run data is saved locally in <code>/home/mstrzezon/university/AdvancedMachineLearning/ml_ops/mldevops_exercise/mldevops_exercise/wandb/run-20241112_131038-mumdchgt</code>"
      ],
      "text/plain": [
       "<IPython.core.display.HTML object>"
      ]
     },
     "metadata": {},
     "output_type": "display_data"
    },
    {
     "data": {
      "text/html": [
       "Syncing run <strong><a href='https://wandb.ai/mstrzezon-agh-university-of-science-and-technology/mldevops_exercise/runs/mumdchgt' target=\"_blank\">jumping-tree-1</a></strong> to <a href='https://wandb.ai/mstrzezon-agh-university-of-science-and-technology/mldevops_exercise' target=\"_blank\">Weights & Biases</a> (<a href='https://wandb.me/developer-guide' target=\"_blank\">docs</a>)<br/>"
      ],
      "text/plain": [
       "<IPython.core.display.HTML object>"
      ]
     },
     "metadata": {},
     "output_type": "display_data"
    },
    {
     "data": {
      "text/html": [
       " View project at <a href='https://wandb.ai/mstrzezon-agh-university-of-science-and-technology/mldevops_exercise' target=\"_blank\">https://wandb.ai/mstrzezon-agh-university-of-science-and-technology/mldevops_exercise</a>"
      ],
      "text/plain": [
       "<IPython.core.display.HTML object>"
      ]
     },
     "metadata": {},
     "output_type": "display_data"
    },
    {
     "data": {
      "text/html": [
       " View run at <a href='https://wandb.ai/mstrzezon-agh-university-of-science-and-technology/mldevops_exercise/runs/mumdchgt' target=\"_blank\">https://wandb.ai/mstrzezon-agh-university-of-science-and-technology/mldevops_exercise/runs/mumdchgt</a>"
      ],
      "text/plain": [
       "<IPython.core.display.HTML object>"
      ]
     },
     "metadata": {},
     "output_type": "display_data"
    },
    {
     "data": {
      "text/html": [
       "<button onClick=\"this.nextSibling.style.display='block';this.style.display='none';\">Display W&B run</button><iframe src='https://wandb.ai/mstrzezon-agh-university-of-science-and-technology/mldevops_exercise/runs/mumdchgt?jupyter=true' style='border:none;width:100%;height:420px;display:none;'></iframe>"
      ],
      "text/plain": [
       "<wandb.sdk.wandb_run.Run at 0x77b191dcfaa0>"
      ]
     },
     "execution_count": 11,
     "metadata": {},
     "output_type": "execute_result"
    }
   ],
   "source": [
    "wandb.init(project=\"mldevops_exercise\", config={\n",
    "    \"learning_rate\": 0.001,\n",
    "    \"epochs\": 10,\n",
    "    \"batch_size\": 32\n",
    "})"
   ]
  },
  {
   "cell_type": "code",
   "execution_count": 12,
   "metadata": {
    "colab": {
     "base_uri": "https://localhost:8080/"
    },
    "id": "ZU9uznZhTs4r",
    "outputId": "44a9edca-4b13-48e9-ba83-cf510bfb070d"
   },
   "outputs": [
    {
     "name": "stdout",
     "output_type": "stream",
     "text": [
      "Epoch [1/30], Training Loss: 2.8071, Validation Loss: 0.7681\n",
      "Epoch [2/30], Training Loss: 0.5436, Validation Loss: 0.4744\n",
      "Epoch [3/30], Training Loss: 0.4767, Validation Loss: 0.5511\n",
      "Epoch [4/30], Training Loss: 0.4732, Validation Loss: 0.4573\n",
      "Epoch [5/30], Training Loss: 0.4429, Validation Loss: 0.4675\n",
      "Epoch [6/30], Training Loss: 0.4473, Validation Loss: 0.4900\n",
      "Epoch [7/30], Training Loss: 0.4456, Validation Loss: 0.5001\n",
      "Epoch [8/30], Training Loss: 0.4229, Validation Loss: 0.5236\n",
      "Epoch [9/30], Training Loss: 0.4265, Validation Loss: 0.5423\n",
      "Epoch [10/30], Training Loss: 0.4267, Validation Loss: 0.5598\n",
      "Epoch [11/30], Training Loss: 0.4196, Validation Loss: 0.4884\n",
      "Epoch [12/30], Training Loss: 0.4194, Validation Loss: 0.4937\n",
      "Epoch [13/30], Training Loss: 0.4147, Validation Loss: 0.5851\n",
      "Epoch [14/30], Training Loss: 0.4140, Validation Loss: 0.5046\n",
      "Epoch [15/30], Training Loss: 0.4004, Validation Loss: 0.4990\n",
      "Epoch [16/30], Training Loss: 0.4059, Validation Loss: 0.7182\n",
      "Epoch [17/30], Training Loss: 0.4278, Validation Loss: 0.5007\n",
      "Epoch [18/30], Training Loss: 0.4099, Validation Loss: 0.5444\n",
      "Epoch [19/30], Training Loss: 0.4202, Validation Loss: 0.4888\n",
      "Epoch [20/30], Training Loss: 0.4289, Validation Loss: 0.6955\n",
      "Epoch [21/30], Training Loss: 0.4126, Validation Loss: 0.4958\n",
      "Epoch [22/30], Training Loss: 0.4527, Validation Loss: 0.7649\n",
      "Epoch [23/30], Training Loss: 0.3975, Validation Loss: 0.6196\n",
      "Epoch [24/30], Training Loss: 0.3915, Validation Loss: 0.5907\n",
      "Epoch [25/30], Training Loss: 0.4460, Validation Loss: 0.7054\n",
      "Epoch [26/30], Training Loss: 0.4231, Validation Loss: 0.6504\n",
      "Epoch [27/30], Training Loss: 0.3966, Validation Loss: 0.5936\n",
      "Epoch [28/30], Training Loss: 0.4288, Validation Loss: 0.6325\n",
      "Epoch [29/30], Training Loss: 0.4397, Validation Loss: 0.6803\n",
      "Epoch [30/30], Training Loss: 0.3918, Validation Loss: 0.5763\n"
     ]
    }
   ],
   "source": [
    "def train(model, train_loader, val_loader, criterion, optimizer, epochs=5):\n",
    "    model.train()\n",
    "    for epoch in range(epochs):\n",
    "        running_loss = 0.0\n",
    "        for images, labels in train_loader:\n",
    "            optimizer.zero_grad()\n",
    "\n",
    "            outputs = model(images)\n",
    "            loss = criterion(outputs, labels)\n",
    "\n",
    "            loss.backward()\n",
    "            optimizer.step()\n",
    "\n",
    "            running_loss += loss.item()\n",
    "            \n",
    "        training_loss = running_loss / len(train_loader)\n",
    "\n",
    "        # Validation Loop\n",
    "        model.eval()  # Set model to evaluation mode\n",
    "        validation_loss = 0.0\n",
    "        with torch.no_grad():  # Disable gradient calculation for validation\n",
    "            for images, labels in val_loader:\n",
    "                outputs = model(images)\n",
    "                loss = criterion(outputs, labels)\n",
    "                validation_loss += loss.item()\n",
    "        \n",
    "        # Calculate average validation loss\n",
    "        validation_loss /= len(val_loader)        \n",
    "        \n",
    "        print(f\"Epoch [{epoch+1}/{epochs}], Training Loss: {training_loss:.4f}, Validation Loss: {validation_loss:.4f}\")\n",
    "        \n",
    "        wandb.log({\"Training Loss\": training_loss, \"Validation Loss\": validation_loss})\n",
    "\n",
    "\n",
    "train(model, train_loader, val_loader, criterion, optimizer, epochs=30)"
   ]
  },
  {
   "cell_type": "code",
   "execution_count": 13,
   "metadata": {},
   "outputs": [
    {
     "data": {
      "text/plain": [
       "<Artifact project_code>"
      ]
     },
     "execution_count": 13,
     "metadata": {},
     "output_type": "execute_result"
    }
   ],
   "source": [
    "artifact = wandb.Artifact(\"project_code\", type=\"code\")\n",
    "artifact.add_file(\"Supervised_Learning_Classification.ipynb\")  # Add your script files\n",
    "wandb.log_artifact(artifact)"
   ]
  },
  {
   "cell_type": "code",
   "execution_count": 14,
   "metadata": {},
   "outputs": [
    {
     "data": {
      "application/vnd.jupyter.widget-view+json": {
       "model_id": "",
       "version_major": 2,
       "version_minor": 0
      },
      "text/plain": [
       "VBox(children=(Label(value='0.004 MB of 0.004 MB uploaded\\r'), FloatProgress(value=1.0, max=1.0)))"
      ]
     },
     "metadata": {},
     "output_type": "display_data"
    },
    {
     "data": {
      "text/html": [
       "\n",
       "    <style>\n",
       "        .wandb-row {\n",
       "            display: flex;\n",
       "            flex-direction: row;\n",
       "            flex-wrap: wrap;\n",
       "            justify-content: flex-start;\n",
       "            width: 100%;\n",
       "        }\n",
       "        .wandb-col {\n",
       "            display: flex;\n",
       "            flex-direction: column;\n",
       "            flex-basis: 100%;\n",
       "            flex: 1;\n",
       "            padding: 10px;\n",
       "        }\n",
       "    </style>\n",
       "<div class=\"wandb-row\"><div class=\"wandb-col\"><h3>Run history:</h3><br/><table class=\"wandb\"><tr><td>Training Loss</td><td>█▁▁▁▁▁▁▁▁▁▁▁▁▁▁▁▁▁▁▁▁▁▁▁▁▁▁▁▁▁</td></tr><tr><td>Validation Loss</td><td>█▁▃▁▁▂▂▂▃▃▂▂▄▂▂▇▂▃▂▆▂█▅▄▇▅▄▅▆▄</td></tr></table><br/></div><div class=\"wandb-col\"><h3>Run summary:</h3><br/><table class=\"wandb\"><tr><td>Training Loss</td><td>0.39182</td></tr><tr><td>Validation Loss</td><td>0.57632</td></tr></table><br/></div></div>"
      ],
      "text/plain": [
       "<IPython.core.display.HTML object>"
      ]
     },
     "metadata": {},
     "output_type": "display_data"
    },
    {
     "data": {
      "text/html": [
       " View run <strong style=\"color:#cdcd00\">jumping-tree-1</strong> at: <a href='https://wandb.ai/mstrzezon-agh-university-of-science-and-technology/mldevops_exercise/runs/mumdchgt' target=\"_blank\">https://wandb.ai/mstrzezon-agh-university-of-science-and-technology/mldevops_exercise/runs/mumdchgt</a><br/> View project at: <a href='https://wandb.ai/mstrzezon-agh-university-of-science-and-technology/mldevops_exercise' target=\"_blank\">https://wandb.ai/mstrzezon-agh-university-of-science-and-technology/mldevops_exercise</a><br/>Synced 4 W&B file(s), 0 media file(s), 5 artifact file(s) and 0 other file(s)"
      ],
      "text/plain": [
       "<IPython.core.display.HTML object>"
      ]
     },
     "metadata": {},
     "output_type": "display_data"
    },
    {
     "data": {
      "text/html": [
       "Find logs at: <code>./wandb/run-20241112_131038-mumdchgt/logs</code>"
      ],
      "text/plain": [
       "<IPython.core.display.HTML object>"
      ]
     },
     "metadata": {},
     "output_type": "display_data"
    }
   ],
   "source": [
    "wandb.finish()"
   ]
  },
  {
   "cell_type": "code",
   "execution_count": 15,
   "metadata": {
    "colab": {
     "base_uri": "https://localhost:8080/"
    },
    "id": "ocr16kGhV-mV",
    "outputId": "ec8f3d1a-a750-4aca-d40e-f7a889797acc"
   },
   "outputs": [
    {
     "name": "stdout",
     "output_type": "stream",
     "text": [
      "Test Loss: 0.5340, Accuracy: 85.27%\n"
     ]
    }
   ],
   "source": [
    "def test(model, test_loader, criterion):\n",
    "    model.eval()\n",
    "    test_loss = 0.0\n",
    "    correct = 0\n",
    "    with torch.no_grad():\n",
    "        for images, labels in test_loader:\n",
    "            outputs = model(images)\n",
    "            test_loss += criterion(outputs, labels).item()\n",
    "            pred = outputs.argmax(dim=1, keepdim=True)\n",
    "            correct += pred.eq(labels.view_as(pred)).sum().item()\n",
    "\n",
    "    test_loss /= len(test_loader)\n",
    "    accuracy = correct / len(test_loader.dataset)\n",
    "\n",
    "    print(f\"Test Loss: {test_loss:.4f}, Accuracy: {accuracy*100:.2f}%\")\n",
    "\n",
    "\n",
    "test(model, test_loader, criterion)"
   ]
  },
  {
   "cell_type": "code",
   "execution_count": 16,
   "metadata": {
    "colab": {
     "base_uri": "https://localhost:8080/",
     "height": 444
    },
    "id": "Ft5cCBIqX35B",
    "outputId": "bc21b242-e766-4899-e58c-89d53cc5d2f7"
   },
   "outputs": [
    {
     "data": {
      "image/png": "[encoded data removed]",
      "text/plain": [
       "<Figure size 1000x500 with 6 Axes>"
      ]
     },
     "metadata": {},
     "output_type": "display_data"
    }
   ],
   "source": [
    "def visualize_predictions(model, test_loader):\n",
    "    model.eval()\n",
    "    images, labels = next(iter(test_loader))\n",
    "    with torch.no_grad():\n",
    "        outputs = model(images)\n",
    "        _, preds = torch.max(outputs, 1)\n",
    "\n",
    "    plt.figure(figsize=(10, 5))\n",
    "    for i in range(6):\n",
    "        plt.subplot(2, 3, i + 1)\n",
    "        plt.imshow(images[i].numpy().squeeze(), cmap=\"gray\")\n",
    "        plt.title(f\"Predicted: {preds[i].item()}\")\n",
    "        plt.axis(\"off\")\n",
    "    plt.show()\n",
    "\n",
    "\n",
    "visualize_predictions(model, test_loader)"
   ]
  },
  {
   "cell_type": "code",
   "execution_count": null,
   "metadata": {},
   "outputs": [],
   "source": []
  }
 ],
 "metadata": {
  "accelerator": "GPU",
  "colab": {
   "gpuType": "T4",
   "provenance": []
  },
  "kernelspec": {
   "display_name": "Python 3 (ipykernel)",
   "language": "python",
   "name": "python3"
  },
  "language_info": {
   "codemirror_mode": {
    "name": "ipython",
    "version": 3
   },
   "file_extension": ".py",
   "mimetype": "text/x-python",
   "name": "python",
   "nbconvert_exporter": "python",
   "pygments_lexer": "ipython3",
   "version": "3.12.3"
  }
 },
 "nbformat": 4,
 "nbformat_minor": 4
}
